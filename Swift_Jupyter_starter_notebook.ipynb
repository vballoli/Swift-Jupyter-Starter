{
  "nbformat": 4,
  "nbformat_minor": 0,
  "metadata": {
    "colab": {
      "name": "Swift-Jupyter starter notebook.ipynb",
      "provenance": [],
      "collapsed_sections": [],
      "include_colab_link": true
    },
    "kernelspec": {
      "name": "swift",
      "display_name": "Swift"
    },
    "accelerator": "GPU"
  },
  "cells": [
    {
      "cell_type": "markdown",
      "metadata": {
        "id": "view-in-github",
        "colab_type": "text"
      },
      "source": [
        "<a href=\"https://colab.research.google.com/github/vballoli/Swift-Jupyter-Starter/blob/master/Swift_Jupyter_starter_notebook.ipynb\" target=\"_parent\"><img src=\"https://colab.research.google.com/assets/colab-badge.svg\" alt=\"Open In Colab\"/></a>"
      ]
    },
    {
      "cell_type": "markdown",
      "metadata": {
        "id": "OkaMw5l7-tq6",
        "colab_type": "text"
      },
      "source": [
        "# Starter notebook\n",
        "\n",
        "This notebook contains all the basic requirements to prototype anything using Swift. Run all to get started !!"
      ]
    },
    {
      "cell_type": "markdown",
      "metadata": {
        "id": "eKpFI-JP_zIb",
        "colab_type": "text"
      },
      "source": [
        "# Installation \n",
        "\n",
        "Set up the requirements. This __should__ be the first cell that is executed.\n",
        "\n",
        "Visit https://github.com/tensorflow/swift-models/blob/master/Package.swift for more."
      ]
    },
    {
      "cell_type": "code",
      "metadata": {
        "id": "kZRlD4utdPuX",
        "colab_type": "code",
        "colab": {}
      },
      "source": [
        "// Install swift models\n",
        "// Command - %install '.package(url: , .branch())'\n",
        "// or  - %install '.package(url: , from: \"\")'\n",
        "// Make sure installation is configured properly - a kernel restart is required \n",
        "// incase you miss something[Packages can only be installed during first cell execution]\n",
        "%install-location $cwd/swift-install\n",
        "%install-swiftpm-flags -c release\n",
        "%install '.package(url: \"https://github.com/tensorflow/swift-models\", .branch(\"master\"))' Batcher ModelSupport Datasets ImageClassificationModels TextModels FastStyleTransfer MiniGo"
      ],
      "execution_count": 0,
      "outputs": []
    },
    {
      "cell_type": "markdown",
      "metadata": {
        "id": "FXJg0Oq9_nNE",
        "colab_type": "text"
      },
      "source": [
        "# Import all !!"
      ]
    },
    {
      "cell_type": "code",
      "metadata": {
        "id": "O2IVJLNA7dBb",
        "colab_type": "code",
        "colab": {}
      },
      "source": [
        "import Foundation\n",
        "import TensorFlow\n",
        "import Batcher\n",
        "import ModelSupport\n",
        "import Datasets"
      ],
      "execution_count": 0,
      "outputs": []
    },
    {
      "cell_type": "code",
      "metadata": {
        "id": "rZtG0NnT2N9H",
        "colab_type": "code",
        "colab": {}
      },
      "source": [
        "// comment so that Colab does not interpret `#if ...` as a comment\n",
        "#if canImport(PythonKit)\n",
        "    import PythonKit\n",
        "#else\n",
        "    import Python\n",
        "#endif\n",
        "\n",
        "// Support graphs within the notebook\n",
        "%include \"EnableIPythonDisplay.swift\"\n",
        "IPythonDisplay.shell.enable_matplotlib(\"inline\")\n",
        "\n",
        "// Mandatory stuff\n",
        "let np = Python.import(\"numpy\")\n",
        "let plt = Python.import(\"matplotlib.pyplot\")"
      ],
      "execution_count": 0,
      "outputs": []
    },
    {
      "cell_type": "markdown",
      "metadata": {
        "id": "DsGBij-rOWKg",
        "colab_type": "text"
      },
      "source": [
        "Need a different Python library ? No problem! \n",
        "\n",
        "Execute `pip install libraryName1 libraryName2` through `pipShell(\"libraryName1\", \"libraryName2\")` by executing this cell.\n",
        "\n",
        "Credits: https://stackoverflow.com/a/50035059"
      ]
    },
    {
      "cell_type": "code",
      "metadata": {
        "id": "XNSXqvPWOUcR",
        "colab_type": "code",
        "colab": {}
      },
      "source": [
        "func shell(_ command: String) -> String {\n",
        "    let task = Process()\n",
        "    task.launchPath = \"/bin/bash\"\n",
        "    task.arguments = [\"-c\", command]\n",
        "\n",
        "    let pipe = Pipe()\n",
        "    task.standardOutput = pipe\n",
        "    task.launch()\n",
        "\n",
        "    let data = pipe.fileHandleForReading.readDataToEndOfFile()\n",
        "    let output: String = NSString(data: data, encoding: String.Encoding.utf8.rawValue)! as String\n",
        "\n",
        "    return output\n",
        "}\n",
        "\n",
        "// Example usage:\n",
        "func pipShell(_ libraries: String...) -> String {\n",
        "  var concatenatedLibraries = libraries.map({ $0 + \" \" }).reduce(\"\", +)\n",
        "  let pipCommand = \"pip install \\(concatenatedLibraries)\"\n",
        "  return shell(pipCommand)\n",
        "}"
      ],
      "execution_count": 0,
      "outputs": []
    }
  ]
}